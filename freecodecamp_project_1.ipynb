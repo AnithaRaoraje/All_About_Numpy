{
 "cells": [
  {
   "cell_type": "code",
   "execution_count": 44,
   "metadata": {},
   "outputs": [],
   "source": [
    "import numpy as np"
   ]
  },
  {
   "cell_type": "code",
   "execution_count": 74,
   "metadata": {},
   "outputs": [
    {
     "data": {
      "text/plain": [
       "{'mean': [[3.0, 4.0, 5.0], [1.0, 4.0, 7.0], 4.0],\n",
       " 'variance': [[6.0, 6.0, 6.0],\n",
       "  [0.6666666666666666, 0.6666666666666666, 0.6666666666666666],\n",
       "  6.666666666666667],\n",
       " 'standard deviation': [[2.449489742783178,\n",
       "   2.449489742783178,\n",
       "   2.449489742783178],\n",
       "  [0.816496580927726, 0.816496580927726, 0.816496580927726],\n",
       "  2.581988897471611],\n",
       " 'max': [[6, 7, 8], [2, 5, 8], 8],\n",
       " 'min': [[0, 1, 2], [0, 3, 6], 0],\n",
       " 'sum': [[9, 12, 15], [3, 12, 21], 36]}"
      ]
     },
     "execution_count": 74,
     "metadata": {},
     "output_type": "execute_result"
    }
   ],
   "source": [
    "def calculate(list):\n",
    "    for i in list:\n",
    "        if len(list) >= 9:\n",
    "            list = np.reshape(list,(3,3))\n",
    "            calculations =  {\n",
    "                'mean': [np.mean(list, axis=0).tolist(),np.mean(list,axis=1).tolist(),np.mean(list).tolist()],\n",
    "                'variance': [np.var(list,axis=0).tolist(),np.var(list,axis=1).tolist(),np.var(list).tolist()],\n",
    "                'standard deviation': [np.std(list,axis=0).tolist(),np.std(list,axis=1).tolist(),np.std(list).tolist()],\n",
    "                'max': [np.max(list,axis=0).tolist(),np.max(list,axis=1).tolist(),np.max(list).tolist()],\n",
    "                'min': [np.min(list,axis=0).tolist(),np.min(list,axis=1).tolist(),np.min(list).tolist()],\n",
    "                'sum': [np.sum(list,axis=0).tolist(),np.sum(list,axis=1).tolist(),np.sum(list).tolist()]\n",
    "            }\n",
    "        else:\n",
    "            raise ValueError(\"list must contain nine numbers.\")\n",
    "        return (calculations)\n",
    "\n",
    "\n",
    "calculate([0, 1, 2, 3, 4, 5, 6, 7, 8])"
   ]
  },
  {
   "cell_type": "code",
   "execution_count": 76,
   "metadata": {},
   "outputs": [
    {
     "data": {
      "text/plain": [
       "{'mean': [[3.6666666666666665, 5.0, 3.0],\n",
       "  [3.3333333333333335, 4.0, 4.333333333333333],\n",
       "  3.888888888888889],\n",
       " 'variance': [[9.555555555555557, 0.6666666666666666, 8.666666666666666],\n",
       "  [3.555555555555556, 10.666666666666666, 6.222222222222221],\n",
       "  6.987654320987654],\n",
       " 'standard deviation': [[3.091206165165235,\n",
       "   0.816496580927726,\n",
       "   2.943920288775949],\n",
       "  [1.8856180831641267, 3.265986323710904, 2.494438257849294],\n",
       "  2.6434171674156266],\n",
       " 'max': [[8, 6, 7], [6, 8, 7], 8],\n",
       " 'min': [[1, 4, 0], [2, 0, 1], 0],\n",
       " 'sum': [[11, 15, 9], [10, 12, 13], 35]}"
      ]
     },
     "execution_count": 76,
     "metadata": {},
     "output_type": "execute_result"
    }
   ],
   "source": [
    "calculate([2,6,2,8,4,0,1,5,7])"
   ]
  },
  {
   "cell_type": "code",
   "execution_count": 77,
   "metadata": {},
   "outputs": [
    {
     "ename": "ValueError",
     "evalue": "list must contain nine numbers.",
     "output_type": "error",
     "traceback": [
      "\u001b[1;31m---------------------------------------------------------------------------\u001b[0m",
      "\u001b[1;31mValueError\u001b[0m                                Traceback (most recent call last)",
      "\u001b[1;32m<ipython-input-77-02e0783d9b13>\u001b[0m in \u001b[0;36m<module>\u001b[1;34m\u001b[0m\n\u001b[1;32m----> 1\u001b[1;33m \u001b[0mcalculate\u001b[0m\u001b[1;33m(\u001b[0m\u001b[1;33m[\u001b[0m\u001b[1;36m2\u001b[0m\u001b[1;33m,\u001b[0m\u001b[1;36m6\u001b[0m\u001b[1;33m,\u001b[0m\u001b[1;36m4\u001b[0m\u001b[1;33m,\u001b[0m\u001b[1;36m0\u001b[0m\u001b[1;33m,\u001b[0m\u001b[1;36m1\u001b[0m\u001b[1;33m,\u001b[0m\u001b[1;36m5\u001b[0m\u001b[1;33m,\u001b[0m\u001b[1;36m7\u001b[0m\u001b[1;33m]\u001b[0m\u001b[1;33m)\u001b[0m\u001b[1;33m\u001b[0m\u001b[1;33m\u001b[0m\u001b[0m\n\u001b[0m",
      "\u001b[1;32m<ipython-input-74-5fbbb2bdbdc9>\u001b[0m in \u001b[0;36mcalculate\u001b[1;34m(list)\u001b[0m\n\u001b[0;32m     12\u001b[0m             }\n\u001b[0;32m     13\u001b[0m         \u001b[1;32melse\u001b[0m\u001b[1;33m:\u001b[0m\u001b[1;33m\u001b[0m\u001b[1;33m\u001b[0m\u001b[0m\n\u001b[1;32m---> 14\u001b[1;33m             \u001b[1;32mraise\u001b[0m \u001b[0mValueError\u001b[0m\u001b[1;33m(\u001b[0m\u001b[1;34m\"list must contain nine numbers.\"\u001b[0m\u001b[1;33m)\u001b[0m\u001b[1;33m\u001b[0m\u001b[1;33m\u001b[0m\u001b[0m\n\u001b[0m\u001b[0;32m     15\u001b[0m         \u001b[1;32mreturn\u001b[0m \u001b[1;33m(\u001b[0m\u001b[0mcalculations\u001b[0m\u001b[1;33m)\u001b[0m\u001b[1;33m\u001b[0m\u001b[1;33m\u001b[0m\u001b[0m\n\u001b[0;32m     16\u001b[0m \u001b[1;33m\u001b[0m\u001b[0m\n",
      "\u001b[1;31mValueError\u001b[0m: list must contain nine numbers."
     ]
    }
   ],
   "source": [
    "calculate([2,6,4,0,1,5,7])"
   ]
  },
  {
   "cell_type": "code",
   "execution_count": null,
   "metadata": {},
   "outputs": [],
   "source": []
  }
 ],
 "metadata": {
  "kernelspec": {
   "display_name": "Python 3",
   "language": "python",
   "name": "python3"
  },
  "language_info": {
   "codemirror_mode": {
    "name": "ipython",
    "version": 3
   },
   "file_extension": ".py",
   "mimetype": "text/x-python",
   "name": "python",
   "nbconvert_exporter": "python",
   "pygments_lexer": "ipython3",
   "version": "3.8.5"
  }
 },
 "nbformat": 4,
 "nbformat_minor": 4
}
